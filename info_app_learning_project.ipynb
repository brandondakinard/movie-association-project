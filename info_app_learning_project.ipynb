{
 "cells": [
  {
   "cell_type": "code",
   "execution_count": 1,
   "metadata": {
    "collapsed": true,
    "deletable": true,
    "editable": true
   },
   "outputs": [],
   "source": [
    "from pandas import *"
   ]
  },
  {
   "cell_type": "code",
   "execution_count": 2,
   "metadata": {
    "collapsed": true,
    "deletable": true,
    "editable": true
   },
   "outputs": [],
   "source": [
    "reddit_df = read_csv(\"~/documents/results.csv\")"
   ]
  },
  {
   "cell_type": "code",
   "execution_count": 3,
   "metadata": {
    "collapsed": false,
    "deletable": true,
    "editable": true
   },
   "outputs": [],
   "source": [
    "# reddit_df - shows table"
   ]
  },
  {
   "cell_type": "code",
   "execution_count": 4,
   "metadata": {
    "collapsed": true,
    "deletable": true,
    "editable": true
   },
   "outputs": [],
   "source": [
    "movies_df = read_csv(\"~/documents/movies.csv\")"
   ]
  },
  {
   "cell_type": "code",
   "execution_count": 5,
   "metadata": {
    "collapsed": false,
    "deletable": true,
    "editable": true
   },
   "outputs": [],
   "source": [
    "# movies_df - shows table"
   ]
  },
  {
   "cell_type": "code",
   "execution_count": 6,
   "metadata": {
    "collapsed": false,
    "deletable": true,
    "editable": true
   },
   "outputs": [],
   "source": [
    "mL = movies_df['movie_title'].str.lower()\n",
    "mL = [word.rstrip(\"\\xa0\") for word in mL]"
   ]
  },
  {
   "cell_type": "code",
   "execution_count": 7,
   "metadata": {
    "collapsed": false,
    "deletable": true,
    "editable": true
   },
   "outputs": [],
   "source": [
    "pL = reddit_df['post'].str.lower()\n",
    "cL = reddit_df['comment'].str.lower()"
   ]
  },
  {
   "cell_type": "code",
   "execution_count": 8,
   "metadata": {
    "collapsed": false,
    "deletable": true,
    "editable": true
   },
   "outputs": [],
   "source": [
    "ratings_df = read_csv(\"~/documents/movies_with_scores.csv\")\n",
    "# ratings_df\n",
    "\n",
    "# mT is movie title\n",
    "mT = ratings_df['movie_title'].str.lower()\n",
    "mT = [word.rstrip(\"\\xa0\") for word in mT]\n",
    "\n",
    "# mS is movie score\n",
    "mS = ratings_df['imdb_score']"
   ]
  },
  {
   "cell_type": "code",
   "execution_count": 9,
   "metadata": {
    "collapsed": false,
    "deletable": true,
    "editable": true
   },
   "outputs": [],
   "source": [
    "postList = []\n",
    "postHit = []\n",
    "\n",
    "commentList = []\n",
    "commentHit = []\n",
    "\n",
    "for x in pL:\n",
    "    for c0, c1 in zip(mT, mS):\n",
    "        if (c0 in x and c1 > 7.5):\n",
    "            postHit.append(c0)\n",
    "    postList.append(postHit)\n",
    "    postHit = []\n",
    "\n",
    "for z in cL:\n",
    "    for c0, c1 in zip(mT, mS):\n",
    "        if (c0 in z and c1 > 7.5):\n",
    "            commentHit.append(c0)\n",
    "    commentList.append(commentHit)\n",
    "    commentHit = []"
   ]
  },
  {
   "cell_type": "code",
   "execution_count": 10,
   "metadata": {
    "collapsed": false,
    "deletable": true,
    "editable": true
   },
   "outputs": [],
   "source": [
    "mP = dict() # mP stands for movie pairings\n",
    "for f, b in zip(postList, commentList):\n",
    "    for m1 in f:\n",
    "        if m1 not in mP:\n",
    "            mP[m1] = b\n",
    "        else:\n",
    "            mP[m1] = mP[m1] + b"
   ]
  },
  {
   "cell_type": "code",
   "execution_count": 11,
   "metadata": {
    "collapsed": false,
    "deletable": true,
    "editable": true
   },
   "outputs": [],
   "source": [
    "# gives the number of associations per movie\n",
    "mC = dict() # mC stands for movie counts - the number of times a movie occurs for another movie\n",
    "from collections import Counter\n",
    "for m in mP:\n",
    "    if m not in mC:\n",
    "        mC[m] = Counter(mP[m])"
   ]
  },
  {
   "cell_type": "code",
   "execution_count": 12,
   "metadata": {
    "collapsed": false,
    "deletable": true,
    "editable": true,
    "scrolled": true
   },
   "outputs": [],
   "source": [
    "import operator\n",
    "for m in mC:\n",
    "    mC[m] = mC[m].most_common()\n",
    "# mC <- show results"
   ]
  }
 ],
 "metadata": {
  "kernelspec": {
   "display_name": "Python 3",
   "language": "python",
   "name": "python3"
  },
  "language_info": {
   "codemirror_mode": {
    "name": "ipython",
    "version": 3
   },
   "file_extension": ".py",
   "mimetype": "text/x-python",
   "name": "python",
   "nbconvert_exporter": "python",
   "pygments_lexer": "ipython3",
   "version": "3.5.2"
  }
 },
 "nbformat": 4,
 "nbformat_minor": 2
}
